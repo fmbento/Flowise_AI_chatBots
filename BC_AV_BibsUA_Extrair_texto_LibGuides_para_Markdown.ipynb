{
  "nbformat": 4,
  "nbformat_minor": 0,
  "metadata": {
    "colab": {
      "provenance": [],
      "authorship_tag": "ABX9TyOjDzs9PPzk2Dc3IuzcHfHv",
      "include_colab_link": true
    },
    "kernelspec": {
      "name": "python3",
      "display_name": "Python 3"
    },
    "language_info": {
      "name": "python"
    }
  },
  "cells": [
    {
      "cell_type": "markdown",
      "metadata": {
        "id": "view-in-github",
        "colab_type": "text"
      },
      "source": [
        "<a href=\"https://colab.research.google.com/github/fmbento/Flowise_AI_chatBots/blob/main/BC_AV_BibsUA_Extrair_texto_LibGuides_para_Markdown.ipynb\" target=\"_parent\"><img src=\"https://colab.research.google.com/assets/colab-badge.svg\" alt=\"Open In Colab\"/></a>"
      ]
    },
    {
      "cell_type": "code",
      "source": [
        "%%bash\n",
        "pip install requests\n",
        "pip install bs4\n",
        "pip install html2text\n",
        "\n",
        "touch privGuides.txt"
      ],
      "metadata": {
        "id": "NJrhhYl-awsH"
      },
      "execution_count": null,
      "outputs": []
    },
    {
      "cell_type": "code",
      "source": [
        "# Gera URLs_LibGuides.txt do sitemap --\n",
        "# SE HOUVEREM guias privados devem ser colocadas as URLs no\n",
        "# ficheiro local privGuides.txt, uma URL do guia por linha -- as URLs devem\n",
        "# começar por https://uapt.libguides.com/\n",
        "\n",
        "# List of URLs (guias privados)\n",
        "urls = [\n",
        "    \"https://uapt.libguides.com/biblioteca-estga\",\n",
        "    \"https://uapt.libguides.com/c.php?g=701457\",\n",
        "    \"https://uapt.libguides.com/c.php?g=700706\"\n",
        "]\n",
        "\n",
        "# Open the file in write mode\n",
        "with open(\"privGuides.txt\", \"w\") as file:\n",
        "    # Write each URL to the file\n",
        "    for url in urls:\n",
        "        file.write(url + '\\n')\n",
        "\n",
        "import requests\n",
        "from bs4 import BeautifulSoup\n",
        "\n",
        "sitemap_url = 'https://uapt.libguides.com/sitemap.xml'\n",
        "base_url = 'https://uapt.libguides.com/'\n",
        "\n",
        "def crawl_url(url, unique_urls):\n",
        "    # Get the page content\n",
        "    page_content = requests.get(url).content\n",
        "\n",
        "    # Parse the page content\n",
        "    page_soup = BeautifulSoup(page_content, 'html.parser')\n",
        "\n",
        "    # Find all the links in the page\n",
        "    links = page_soup.find_all('a', href=True)\n",
        "\n",
        "    # Iterate over each link in the page\n",
        "    for link in links:\n",
        "        href = link['href']\n",
        "\n",
        "        # Check if the link starts with the base URL\n",
        "        if href.startswith(base_url):\n",
        "            # Add the link to the set of unique URLs\n",
        "            unique_urls.add(href)\n",
        "\n",
        "# Get the sitemap content\n",
        "sitemap_content = requests.get(sitemap_url).content\n",
        "\n",
        "# Parse the sitemap content\n",
        "sitemap_soup = BeautifulSoup(sitemap_content, 'xml')\n",
        "\n",
        "# Get all the URLs from the sitemap\n",
        "urls = [loc.text for loc in sitemap_soup.find_all('loc')]\n",
        "\n",
        "# Initialize a set to store the unique URLs\n",
        "unique_urls = set()\n",
        "\n",
        "# Iterate over each URL in the sitemap and crawl for links\n",
        "for url in urls:\n",
        "    # Add the URL from the sitemap to the set of unique URLs\n",
        "    unique_urls.add(url)\n",
        "\n",
        "    crawl_url(url, unique_urls)\n",
        "\n",
        "# Read additional URLs from privGuides.txt and add them to unique_urls\n",
        "with open('privGuides.txt', 'r') as f:\n",
        "    for line in f:\n",
        "        url = line.strip()\n",
        "        if url:\n",
        "            unique_urls.add(url)\n",
        "            crawl_url(url, unique_urls)\n",
        "\n",
        "# Write the unique URLs to a file\n",
        "with open('URLs_LibGuides.txt', 'w') as f:\n",
        "    for url in sorted(unique_urls):\n",
        "        f.write(url + '\\n')"
      ],
      "metadata": {
        "id": "ZN2O-Agcf7Tg"
      },
      "execution_count": null,
      "outputs": []
    },
    {
      "cell_type": "markdown",
      "source": [
        "This script uses html2text to convert HTML content to Markdown. The handle method of an html2text.HTML2Text object is used to perform the conversion. The ignore_links attribute is set to False for the conversion of links to Markdown format."
      ],
      "metadata": {
        "id": "b57aUMBbGvx8"
      }
    },
    {
      "cell_type": "code",
      "source": [
        "# Faz o crawl de todas as URLS:\n",
        "\n",
        "!find . -type f -name \"*.md\" -delete\n",
        "\n",
        "import requests\n",
        "from bs4 import BeautifulSoup\n",
        "import re\n",
        "import html2text\n",
        "\n",
        "def extract_text(url):\n",
        "    response = requests.get(url)\n",
        "    soup = BeautifulSoup(response.content, \"html.parser\")\n",
        "    div = soup.find(\"div\", id=\"s-lg-guide-main\")\n",
        "    if div:\n",
        "        # Convert HTML to Markdown\n",
        "        text_maker = html2text.HTML2Text()\n",
        "        # text_maker.ignore_links = True\n",
        "        text_maker.ignore_links = False\n",
        "        text = text_maker.handle(str(div))\n",
        "    else:\n",
        "        text = \"\"\n",
        "    return text\n",
        "\n",
        "def generate_filename(index, title):\n",
        "    title = re.sub(r'[^\\w\\s-]', '', title).strip()  # Remove special characters\n",
        "    title = re.sub(r'[-\\s]+', '-', title)  # Replace spaces with hyphens\n",
        "    filename = f\"{index:03d}_{title}.md\"  # Change file extension to .md\n",
        "    return filename\n",
        "\n",
        "def clean_text(text):\n",
        "    # Remove lines that start with \" << Anterior:\"\n",
        "    text = re.sub(r'^\\s*<< Anterior:.*\\n?', '', text, flags=re.MULTILINE)\n",
        "    return text\n",
        "\n",
        "# Read the URLs from the text file\n",
        "with open(\"URLs_LibGuides.txt\", \"r\") as file:\n",
        "    urls = file.read().splitlines()\n",
        "\n",
        "# Extract text from pages and save in separate files\n",
        "for index, url in enumerate(urls, start=1):\n",
        "    try:\n",
        "        text = extract_text(url)\n",
        "        response = requests.get(url)\n",
        "        soup = BeautifulSoup(response.content, \"html.parser\")\n",
        "        title = soup.find(\"title\").get_text()\n",
        "\n",
        "        # Remove the text \" - LibGuides at Universidade de Aveiro\" from the title\n",
        "        title = title.replace(\" - LibGuides at Universidade de Aveiro\", \"\")\n",
        "\n",
        "        filename = generate_filename(index, title)\n",
        "\n",
        "        # Clean the extracted text\n",
        "        cleaned_text = clean_text(text)\n",
        "\n",
        "        # Add a blank line before the additional text if necessary\n",
        "        if not cleaned_text.endswith('\\n\\n'):\n",
        "            cleaned_text += '\\n'\n",
        "\n",
        "        # Add the additional text at the end of the file\n",
        "        cleaned_text += f\"\\nPara saber mais sobre {title}, aceda a {url}\"\n",
        "\n",
        "        # Remove empty lines at the beginning of the file\n",
        "        cleaned_text = cleaned_text.lstrip('\\n')\n",
        "\n",
        "        # Replace three consecutive line breaks with two\n",
        "        # cleaned_text = re.sub(r'\\n\\n\\n', '\\n\\n', cleaned_text)\n",
        "\n",
        "        with open(filename, \"w\", encoding=\"utf-8\") as output_file:\n",
        "            output_file.write(cleaned_text)\n",
        "\n",
        "        print(f\"Extracted markdown from page {index}: {filename}\")\n",
        "    except Exception as e:\n",
        "        print(f\"An error occurred while extracting markdown from page {index}: {e}\")"
      ],
      "metadata": {
        "id": "XhFcjG67Gg2s"
      },
      "execution_count": null,
      "outputs": []
    },
    {
      "cell_type": "code",
      "source": [
        "%%bash\n",
        "zip libguides_markdown.zip *.md\n",
        "!find . -type f -name \"*.md\" -delete"
      ],
      "metadata": {
        "id": "JT3U3oAOJZsj"
      },
      "execution_count": null,
      "outputs": []
    },
    {
      "cell_type": "markdown",
      "source": [
        "# FEITO"
      ],
      "metadata": {
        "id": "_GYHqtzZIxz_"
      }
    },
    {
      "cell_type": "markdown",
      "source": [
        "# Nova secção"
      ],
      "metadata": {
        "id": "Z7aJRoSSIx3V"
      }
    },
    {
      "cell_type": "markdown",
      "source": [
        "------------------------\n"
      ],
      "metadata": {
        "id": "pZBUxLCrIaWj"
      }
    },
    {
      "cell_type": "code",
      "source": [
        "# Faz o cranwl de todas as URLS:\n",
        "\n",
        "!find . -type f -name \"*.txt\" ! -name \"URLs_LibGuides.txt\" ! -name \"privGuides.txt\" -delete\n",
        "\n",
        "import requests\n",
        "from bs4 import BeautifulSoup\n",
        "import re\n",
        "\n",
        "def extract_text(url):\n",
        "    response = requests.get(url)\n",
        "    soup = BeautifulSoup(response.content, \"html.parser\")\n",
        "    div = soup.find(\"div\", id=\"s-lg-guide-main\")\n",
        "    if div:\n",
        "        text = div.get_text()\n",
        "    else:\n",
        "        text = \"\"\n",
        "    return text\n",
        "\n",
        "def generate_filename(index, title):\n",
        "    title = re.sub(r'[^\\w\\s-]', '', title).strip()  # Remove special characters\n",
        "    title = re.sub(r'[-\\s]+', '-', title)  # Replace spaces with hyphens\n",
        "    filename = f\"{index:03d}_{title}.txt\"\n",
        "    return filename\n",
        "\n",
        "def clean_text(text):\n",
        "    # Remove more than two consecutive empty lines\n",
        "    text = re.sub(r'\\n\\s*\\n\\s*\\n\\s*\\n', '\\n\\n', text)\n",
        "    # Remove empty lines that don't have another empty line before or after\n",
        "    # text = re.sub(r'(?<!\\n)\\n\\s*\\n(?!\\n)', '\\n', text)\n",
        "    # Remove lines that start with \" << Anterior:\"\n",
        "    text = re.sub(r'^\\s*<< Anterior:.*\\n?', '', text, flags=re.MULTILINE)\n",
        "    return text\n",
        "\n",
        "# Read the URLs from the text file\n",
        "with open(\"URLs_LibGuides.txt\", \"r\") as file:\n",
        "    urls = file.read().splitlines()\n",
        "\n",
        "# Extract text from pages and save in separate files\n",
        "for index, url in enumerate(urls, start=1):\n",
        "    try:\n",
        "        text = extract_text(url)\n",
        "        response = requests.get(url)\n",
        "        soup = BeautifulSoup(response.content, \"html.parser\")\n",
        "        title = soup.find(\"title\").get_text()\n",
        "\n",
        "        # Remove the text \" - LibGuides at Universidade de Aveiro\" from the title\n",
        "        title = title.replace(\" - LibGuides at Universidade de Aveiro\", \"\")\n",
        "\n",
        "        filename = generate_filename(index, title)\n",
        "\n",
        "        # Clean the extracted text\n",
        "        cleaned_text = clean_text(text)\n",
        "\n",
        "        # Add a blank line before the additional text if necessary\n",
        "        if not cleaned_text.endswith('\\n\\n'):\n",
        "            cleaned_text += '\\n'\n",
        "\n",
        "        # Add the additional text at the end of the file\n",
        "        cleaned_text += f\"\\nPara saber mais sobre {title}, aceda a {url}\"\n",
        "\n",
        "        # Remove empty lines at the beginning of the file\n",
        "        cleaned_text = cleaned_text.lstrip('\\n')\n",
        "\n",
        "        # Replace three consecutive line breaks with two\n",
        "        cleaned_text = re.sub(r'\\n\\n\\n', '\\n\\n', cleaned_text\n",
        "\n",
        "        with open(filename, \"w\", encoding=\"utf-8\") as output_file:\n",
        "            output_file.write(cleaned_text)\n",
        "\n",
        "        print(f\"Extracted text from page {index}: {filename}\")\n",
        "    except Exception as e:\n",
        "        print(f\"An error occurred while extracting text from page {index}: {e}\")"
      ],
      "metadata": {
        "colab": {
          "base_uri": "https://localhost:8080/",
          "height": 140
        },
        "id": "-Zyy7WELMN4I",
        "outputId": "1e1625fd-ff57-4004-b35f-58f2f0f01d1f"
      },
      "execution_count": null,
      "outputs": [
        {
          "output_type": "error",
          "ename": "SyntaxError",
          "evalue": "ignored",
          "traceback": [
            "\u001b[0;36m  File \u001b[0;32m\"<ipython-input-12-f2ccbe6626df>\"\u001b[0;36m, line \u001b[0;32m65\u001b[0m\n\u001b[0;31m    cleaned_text = re.sub(r'\\n\\n\\n', '\\n\\n', cleaned_text\u001b[0m\n\u001b[0m                         ^\u001b[0m\n\u001b[0;31mSyntaxError\u001b[0m\u001b[0;31m:\u001b[0m '(' was never closed\n"
          ]
        }
      ]
    },
    {
      "cell_type": "code",
      "source": [
        "%%bash\n",
        "zip libguides_txt.zip *.txt -x URLs_LibGuides.txt privGuides.txt\n",
        "find . -type f -name \"*.txt\" ! -name \"URLs_LibGuides.txt\" ! -name \"privGuides.txt\" -delete"
      ],
      "metadata": {
        "id": "yVRy7lCUbl6d",
        "outputId": "dba9d52e-718a-4483-d54a-05514429f5b1",
        "colab": {
          "base_uri": "https://localhost:8080/"
        }
      },
      "execution_count": null,
      "outputs": [
        {
          "output_type": "stream",
          "name": "stdout",
          "text": [
            "\n",
            "zip error: Nothing to do! (libguides_txt.zip)\n"
          ]
        }
      ]
    },
    {
      "cell_type": "markdown",
      "source": [
        "# FEITO!\n",
        "### basta fazer o download do libguides_txt.zip\n",
        "\n",
        "o que está abaixo é apenas arquivo das tentativas anteriores"
      ],
      "metadata": {
        "id": "coSfHWCHt7KB"
      }
    },
    {
      "cell_type": "code",
      "execution_count": null,
      "metadata": {
        "id": "DoaHVjAmabft"
      },
      "outputs": [],
      "source": [
        "import requests\n",
        "from bs4 import BeautifulSoup\n",
        "import re\n",
        "\n",
        "def extract_text(url):\n",
        "    response = requests.get(url)\n",
        "    soup = BeautifulSoup(response.content, \"html.parser\")\n",
        "    div = soup.find(\"div\", id=\"s-lg-guide-main\")\n",
        "    if div:\n",
        "        text = div.get_text()\n",
        "    else:\n",
        "        text = \"\"\n",
        "    return text\n",
        "\n",
        "\n",
        "def generate_filename(index, title):\n",
        "    title = re.sub(r'[^\\w\\s-]', '', title).strip()  # Remove caracteres especiais\n",
        "    title = re.sub(r'[-\\s]+', '-', title)  # Substitui espaços por hífens\n",
        "    filename = f\"{index:03d}_{title}.txt\"\n",
        "    return filename\n",
        "\n",
        "# Ler as URLs do arquivo de texto\n",
        "with open(\"URLs_LibGuides.txt\", \"r\") as file:\n",
        "    urls = file.read().splitlines()\n",
        "\n",
        "# Extrair texto das páginas e salvar em arquivos separados\n",
        "for index, url in enumerate(urls, start=1):\n",
        "    try:\n",
        "        text = extract_text(url)\n",
        "        response = requests.get(url)\n",
        "        soup = BeautifulSoup(response.content, \"html.parser\")\n",
        "        title = soup.find(\"title\").get_text()\n",
        "\n",
        "        filename = generate_filename(index, title)\n",
        "\n",
        "        with open(filename, \"w\", encoding=\"utf-8\") as output_file:\n",
        "            output_file.write(text)\n",
        "\n",
        "        print(f\"Extraído o texto da página {index}: {filename}\")\n",
        "    except Exception as e:\n",
        "        print(f\"Ocorreu um erro ao extrair o texto da página {index}: {e}\")"
      ]
    },
    {
      "cell_type": "code",
      "source": [
        "import requests\n",
        "from bs4 import BeautifulSoup\n",
        "import re\n",
        "\n",
        "def extract_text(url):\n",
        "    response = requests.get(url)\n",
        "    soup = BeautifulSoup(response.content, \"html.parser\")\n",
        "    div = soup.find(\"div\", id=\"s-lg-guide-main\")\n",
        "    if div:\n",
        "        text = div.get_text()\n",
        "    else:\n",
        "        text = \"\"\n",
        "    return text\n",
        "\n",
        "def generate_filename(index, title):\n",
        "    title = re.sub(r'[^\\w\\s-]', '', title).strip()  # Remove special characters\n",
        "    title = re.sub(r'[-\\s]+', '-', title)  # Replace spaces with hyphens\n",
        "    filename = f\"{index:03d}_{title}.txt\"\n",
        "    return filename\n",
        "\n",
        "def clean_text(text):\n",
        "    # Remove four consecutive empty lines\n",
        "    text = re.sub(r'\\n\\s*\\n\\s*\\n\\s*\\n\\s*\\n', '\\n\\n------------------------------------------------\\n\\n', text)\n",
        "    # Remove empty lines that don't have another empty line before or after\n",
        "    text = re.sub(r'(?<!\\n)\\n\\s*\\n(?!\\n)', '\\n', text)\n",
        "    return text\n",
        "\n",
        "# Read the URLs from the text file\n",
        "with open(\"URLs_LibGuides.txt\", \"r\") as file:\n",
        "    urls = file.read().splitlines()\n",
        "\n",
        "# Extract text from pages and save in separate files\n",
        "for index, url in enumerate(urls, start=1):\n",
        "    try:\n",
        "        text = extract_text(url)\n",
        "        response = requests.get(url)\n",
        "        soup = BeautifulSoup(response.content, \"html.parser\")\n",
        "        title = soup.find(\"title\").get_text()\n",
        "\n",
        "        filename = generate_filename(index, title)\n",
        "\n",
        "        # Clean the extracted text\n",
        "        cleaned_text = clean_text(text)\n",
        "\n",
        "        with open(filename, \"w\", encoding=\"utf-8\") as output_file:\n",
        "            output_file.write(cleaned_text)\n",
        "\n",
        "        print(f\"Extracted text from page {index}: {filename}\")\n",
        "    except Exception as e:\n",
        "        print(f\"An error occurred while extracting text from page {index}: {e}\")\n"
      ],
      "metadata": {
        "id": "sTPxPl1hb3Yb"
      },
      "execution_count": null,
      "outputs": []
    },
    {
      "cell_type": "code",
      "source": [],
      "metadata": {
        "id": "Qs07VeJGN7U6"
      },
      "execution_count": null,
      "outputs": []
    },
    {
      "cell_type": "code",
      "source": [
        "%%capture\n",
        "!pip install pdfkit wkhtmltopdf"
      ],
      "metadata": {
        "id": "0roR5e3g0hhp"
      },
      "execution_count": null,
      "outputs": []
    },
    {
      "cell_type": "code",
      "source": [
        "import pdfkit\n",
        "\n",
        "def generate_pdf(urls, output_file):\n",
        "    options = {\n",
        "        'quiet': '',\n",
        "        'page-size': 'A4',\n",
        "        'margin-top': '0mm',\n",
        "        'margin-right': '0mm',\n",
        "        'margin-bottom': '0mm',\n",
        "        'margin-left': '0mm',\n",
        "        'no-outline': None\n",
        "    }\n",
        "\n",
        "    pdfkit.from_file(urls, output_file, options=options)\n",
        "\n",
        "# Example usage\n",
        "input_file = 'URLs_LibGuides.txt'\n",
        "output_pdf = 'output.pdf'\n",
        "\n",
        "with open(input_file, 'r') as file:\n",
        "    url_list = file.read().splitlines()\n",
        "\n",
        "generate_pdf(url_list, output_pdf)\n",
        "print(f'PDF file \"{output_pdf}\" generated successfully.')"
      ],
      "metadata": {
        "id": "mbpoMXU20foE"
      },
      "execution_count": null,
      "outputs": []
    },
    {
      "cell_type": "code",
      "source": [
        "import pdfkit\n",
        "from bs4 import BeautifulSoup\n",
        "import requests\n",
        "\n",
        "# Read URLs from file\n",
        "with open('URLs_LibGuides.txt', 'r') as f:\n",
        "    urls = f.read().splitlines()\n",
        "\n",
        "# Fetch web pages and extract content\n",
        "content = ''\n",
        "for url in urls:\n",
        "    response = requests.get(url)\n",
        "    soup = BeautifulSoup(response.text, 'html.parser')\n",
        "    title = soup.find('title').text.replace(' - LibGuides at Universidade de Aveiro', '')\n",
        "    main_content = soup.find('div', {'id': 's-lg-guide-main'})\n",
        "    if main_content:\n",
        "        content += f'<p></p><h1>{title}</h1><p></p>{main_content}'\n",
        "\n",
        "# Save content to HTML file\n",
        "with open('output.html', 'w') as f:\n",
        "    f.write(content)\n",
        "\n",
        "# Render HTML and save to PDF\n",
        "# pdfkit.from_file('output.html', 'output.pdf')\n"
      ],
      "metadata": {
        "id": "QgbGWY-x3KR1"
      },
      "execution_count": null,
      "outputs": []
    },
    {
      "cell_type": "code",
      "source": [
        "import pdfkit\n",
        "from bs4 import BeautifulSoup\n",
        "import requests\n",
        "\n",
        "# Read URLs from file\n",
        "with open('URLs_LibGuides.txt', 'r') as f:\n",
        "    urls = f.read().splitlines()\n",
        "\n",
        "# Fetch web pages and extract content\n",
        "for url in urls:\n",
        "    response = requests.get(url)\n",
        "    soup = BeautifulSoup(response.text, 'html.parser')\n",
        "    title = soup.find('title').text.replace(' - LibGuides at Universidade de Aveiro', '')\n",
        "    main_content = soup.find('div', {'id': 's-lg-guide-main'})\n",
        "    if main_content:\n",
        "        content = f'<p></p><h1>{title}</h1><p></p>{main_content}'\n",
        "\n",
        "        # Save content to HTML file\n",
        "        filename = f'{title}.html'\n",
        "        with open(filename, 'w') as f:\n",
        "            f.write(content)\n",
        "        print(f'Saved page \"{title}\" as {filename}')\n"
      ],
      "metadata": {
        "id": "ffNliFX1wJ01"
      },
      "execution_count": null,
      "outputs": []
    },
    {
      "cell_type": "code",
      "source": [
        "from bs4 import BeautifulSoup\n",
        "import requests\n",
        "\n",
        "# Read URLs from file\n",
        "with open('URLs_www_sBIDM.txt', 'r') as f:\n",
        "    urls = f.read().splitlines()\n",
        "\n",
        "# Fetch web pages and extract content\n",
        "for url in urls:\n",
        "    response = requests.get(url)\n",
        "    soup = BeautifulSoup(response.text, 'html.parser')\n",
        "    title = soup.find('title').text.replace(' - sbidm - Universidade de Aveiro', '')\n",
        "\n",
        "    # Find the body tag and extract its text\n",
        "    body = soup.find('body')\n",
        "    body_text = body.get_text()\n",
        "\n",
        "    if body_text:\n",
        "        content = f'<p></p><h1>{title}</h1><p></p>{body_text}'\n",
        "\n",
        "        # Save content to HTML file\n",
        "        filename = f'{title}.html'\n",
        "        with open(filename, 'w') as f:\n",
        "            f.write(content)\n",
        "        print(f'Saved page \"{title}\" as {filename}')"
      ],
      "metadata": {
        "colab": {
          "base_uri": "https://localhost:8080/"
        },
        "id": "xUmQLK9BIESV",
        "outputId": "b97548d8-142a-4390-e4c1-c5b40ad799d1"
      },
      "execution_count": null,
      "outputs": [
        {
          "output_type": "stream",
          "name": "stdout",
          "text": [
            "Saved page \"Galerias e espaços - sbidm -  Universidade de Aveiro\" as Galerias e espaços - sbidm -  Universidade de Aveiro.html\n",
            "Saved page \"Museu e Arquivo - sbidm -  Universidade de Aveiro\" as Museu e Arquivo - sbidm -  Universidade de Aveiro.html\n",
            "Saved page \"UA Editora - sbidm -  Universidade de Aveiro\" as UA Editora - sbidm -  Universidade de Aveiro.html\n",
            "Saved page \"visitas - sbidm -  Universidade de Aveiro\" as visitas - sbidm -  Universidade de Aveiro.html\n",
            "Saved page \"Conhecer - sbidm -  Universidade de Aveiro\" as Conhecer - sbidm -  Universidade de Aveiro.html\n",
            "Saved page \"Utilizar - sbidm -  Universidade de Aveiro\" as Utilizar - sbidm -  Universidade de Aveiro.html\n",
            "Saved page \"ajuda e suporte na investigação - sbidm -  Universidade de Aveiro\" as ajuda e suporte na investigação - sbidm -  Universidade de Aveiro.html\n",
            "Saved page \"ajuda e suporte - sbidm -  Universidade de Aveiro\" as ajuda e suporte - sbidm -  Universidade de Aveiro.html\n",
            "Saved page \"acessibilidade e inclusão - sbidm -  Universidade de Aveiro\" as acessibilidade e inclusão - sbidm -  Universidade de Aveiro.html\n",
            "Saved page \"bibliotecas e horários - sbidm -  Universidade de Aveiro\" as bibliotecas e horários - sbidm -  Universidade de Aveiro.html\n",
            "Saved page \"Gerir informação - sbidm -  Universidade de Aveiro\" as Gerir informação - sbidm -  Universidade de Aveiro.html\n",
            "Saved page \"sobre nós - sbidm -  Universidade de Aveiro\" as sobre nós - sbidm -  Universidade de Aveiro.html\n",
            "Saved page \"organização - sbidm -  Universidade de Aveiro\" as organização - sbidm -  Universidade de Aveiro.html\n",
            "Saved page \"Parcerias e projetos - sbidm -  Universidade de Aveiro\" as Parcerias e projetos - sbidm -  Universidade de Aveiro.html\n",
            "Saved page \"serviços - sbidm -  Universidade de Aveiro\" as serviços - sbidm -  Universidade de Aveiro.html\n",
            "Saved page \"Serviços de Biblioteca, Informação Documental e Museologia - sbidm -  Universidade de Aveiro\" as Serviços de Biblioteca, Informação Documental e Museologia - sbidm -  Universidade de Aveiro.html\n"
          ]
        }
      ]
    },
    {
      "cell_type": "code",
      "source": [
        "%%bash\n",
        "zip www_sBIDM.zip *.html"
      ],
      "metadata": {
        "colab": {
          "base_uri": "https://localhost:8080/"
        },
        "id": "nprYwcHDIKW2",
        "outputId": "1ac79d50-a71a-46a6-da0a-3d2348bbafd8"
      },
      "execution_count": null,
      "outputs": [
        {
          "output_type": "stream",
          "name": "stdout",
          "text": [
            "updating: acessibilidade e inclusão - sbidm -  Universidade de Aveiro.html (deflated 20%)\n",
            "updating: ajuda e suporte na investigação - sbidm -  Universidade de Aveiro.html (deflated 13%)\n",
            "updating: ajuda e suporte - sbidm -  Universidade de Aveiro.html (deflated 17%)\n",
            "updating: bibliotecas e horários - sbidm -  Universidade de Aveiro.html (deflated 16%)\n",
            "updating: Conhecer - sbidm -  Universidade de Aveiro.html (deflated 19%)\n",
            "updating: Galerias e espaços - sbidm -  Universidade de Aveiro.html (deflated 16%)\n",
            "updating: Gerir informação - sbidm -  Universidade de Aveiro.html (deflated 17%)\n",
            "updating: Museu e Arquivo - sbidm -  Universidade de Aveiro.html (deflated 17%)\n",
            "updating: organização - sbidm -  Universidade de Aveiro.html (deflated 18%)\n",
            "updating: Parcerias e projetos - sbidm -  Universidade de Aveiro.html (deflated 16%)\n",
            "updating: Serviços de Biblioteca, Informação Documental e Museologia - sbidm -  Universidade de Aveiro.html (deflated 11%)\n",
            "updating: serviços - sbidm -  Universidade de Aveiro.html (deflated 19%)\n",
            "updating: sobre nós - sbidm -  Universidade de Aveiro.html (deflated 18%)\n",
            "updating: UA Editora - sbidm -  Universidade de Aveiro.html (deflated 18%)\n",
            "updating: Utilizar - sbidm -  Universidade de Aveiro.html (deflated 19%)\n",
            "updating: visitas - sbidm -  Universidade de Aveiro.html (deflated 19%)\n"
          ]
        }
      ]
    },
    {
      "cell_type": "code",
      "source": [
        "# Gera URLs_LibGuides.txt do sitemap --\n",
        "# SE NÃO HOUVER guias privados (ficheiro local privGuides.txt)\n",
        "\n",
        "import requests\n",
        "from bs4 import BeautifulSoup\n",
        "\n",
        "sitemap_url = 'https://uapt.libguides.com/sitemap.xml'\n",
        "base_url = 'https://uapt.libguides.com/'\n",
        "\n",
        "# Get the sitemap content\n",
        "sitemap_content = requests.get(sitemap_url).content\n",
        "\n",
        "# Parse the sitemap content\n",
        "sitemap_soup = BeautifulSoup(sitemap_content, 'xml')\n",
        "\n",
        "# Get all the URLs from the sitemap\n",
        "urls = [loc.text for loc in sitemap_soup.find_all('loc')]\n",
        "\n",
        "# Initialize a set to store the unique URLs\n",
        "unique_urls = set()\n",
        "\n",
        "# Iterate over each URL in the sitemap\n",
        "for url in urls:\n",
        "    # Add the URL from the sitemap to the set of unique URLs\n",
        "    unique_urls.add(url)\n",
        "\n",
        "    # Get the page content\n",
        "    page_content = requests.get(url).content\n",
        "\n",
        "    # Parse the page content\n",
        "    page_soup = BeautifulSoup(page_content, 'html.parser')\n",
        "\n",
        "    # Find all the links in the page\n",
        "    links = page_soup.find_all('a', href=True)\n",
        "\n",
        "    # Iterate over each link in the page\n",
        "    for link in links:\n",
        "        href = link['href']\n",
        "\n",
        "        # Check if the link starts with the base URL\n",
        "        if href.startswith(base_url):\n",
        "            # Add the link to the set of unique URLs\n",
        "            unique_urls.add(href)\n",
        "\n",
        "# Write the unique URLs to a file\n",
        "with open('URLs_LibGuides.txt', 'w') as f:\n",
        "    for url in sorted(unique_urls):\n",
        "        f.write(url + '\\n')"
      ],
      "metadata": {
        "id": "RjfATdvNInjy"
      },
      "execution_count": null,
      "outputs": []
    }
  ]
}